{
 "cells": [
  {
   "cell_type": "code",
   "execution_count": 5,
   "metadata": {},
   "outputs": [
    {
     "name": "stdout",
     "output_type": "stream",
     "text": [
      "['phoneCheck - コピー (10).jpg', 'phoneCheck - コピー (11).jpg', 'phoneCheck - コピー (12).jpg', 'phoneCheck - コピー (13).jpg', 'phoneCheck - コピー (15).jpg', 'phoneCheck - コピー (16).jpg', 'phoneCheck - コピー (17).jpg', 'phoneCheck - コピー (18).jpg', 'phoneCheck - コピー (19).jpg', 'phoneCheck - コピー (2).jpg', 'phoneCheck - コピー (20).jpg', 'phoneCheck - コピー (21).jpg', 'phoneCheck - コピー (3).jpg', 'phoneCheck - コピー (4).jpg', 'phoneCheck - コピー (5).jpg', 'phoneCheck - コピー (6).jpg', 'phoneCheck - コピー (7).jpg', 'phoneCheck - コピー (8).jpg', 'phoneCheck - コピー (9).jpg', 'phoneCheck - コピー - コピー (10).jpg', 'phoneCheck - コピー - コピー (11).jpg', 'phoneCheck - コピー - コピー (12).jpg', 'phoneCheck - コピー - コピー (14).jpg', 'phoneCheck - コピー - コピー (15).jpg', 'phoneCheck - コピー - コピー (16).jpg', 'phoneCheck - コピー - コピー (17).jpg', 'phoneCheck - コピー - コピー (18).jpg', 'phoneCheck - コピー - コピー (19).jpg', 'phoneCheck - コピー - コピー (2).jpg', 'phoneCheck - コピー - コピー (20).jpg', 'phoneCheck - コピー - コピー (3).jpg', 'phoneCheck - コピー - コピー (4).jpg', 'phoneCheck - コピー - コピー (5).jpg', 'phoneCheck - コピー - コピー (6).jpg', 'phoneCheck - コピー - コピー (7).jpg', 'phoneCheck - コピー - コピー (8).jpg', 'phoneCheck - コピー - コピー (9).jpg', 'phoneCheck - コピー - コピー.jpg', 'phoneCheck - コピー.jpg', 'phoneCheck.jpg']\n",
      "phoneCheck - コピー (10).jpg\n",
      "phoneCheck - コピー (11).jpg\n",
      "phoneCheck - コピー (12).jpg\n",
      "phoneCheck - コピー (13).jpg\n",
      "phoneCheck - コピー (15).jpg\n",
      "phoneCheck - コピー (16).jpg\n",
      "phoneCheck - コピー (17).jpg\n",
      "phoneCheck - コピー (18).jpg\n",
      "phoneCheck - コピー (19).jpg\n",
      "phoneCheck - コピー (2).jpg\n",
      "phoneCheck - コピー (20).jpg\n",
      "phoneCheck - コピー (21).jpg\n",
      "phoneCheck - コピー (3).jpg\n",
      "phoneCheck - コピー (4).jpg\n",
      "phoneCheck - コピー (5).jpg\n",
      "phoneCheck - コピー (6).jpg\n",
      "phoneCheck - コピー (7).jpg\n",
      "phoneCheck - コピー (8).jpg\n",
      "phoneCheck - コピー (9).jpg\n",
      "phoneCheck - コピー - コピー (10).jpg\n",
      "phoneCheck - コピー - コピー (11).jpg\n",
      "phoneCheck - コピー - コピー (12).jpg\n",
      "phoneCheck - コピー - コピー (14).jpg\n",
      "phoneCheck - コピー - コピー (15).jpg\n",
      "phoneCheck - コピー - コピー (16).jpg\n",
      "phoneCheck - コピー - コピー (17).jpg\n",
      "phoneCheck - コピー - コピー (18).jpg\n",
      "phoneCheck - コピー - コピー (19).jpg\n",
      "phoneCheck - コピー - コピー (2).jpg\n",
      "phoneCheck - コピー - コピー (20).jpg\n",
      "phoneCheck - コピー - コピー (3).jpg\n",
      "phoneCheck - コピー - コピー (4).jpg\n",
      "phoneCheck - コピー - コピー (5).jpg\n",
      "phoneCheck - コピー - コピー (6).jpg\n",
      "phoneCheck - コピー - コピー (7).jpg\n",
      "phoneCheck - コピー - コピー (8).jpg\n",
      "phoneCheck - コピー - コピー (9).jpg\n",
      "phoneCheck - コピー - コピー.jpg\n",
      "phoneCheck - コピー.jpg\n",
      "phoneCheck.jpg\n"
     ]
    }
   ],
   "source": [
    "import os\n",
    "\n",
    "def getJpgList():   \n",
    "    #jpgフォルダを指定してリストを取得する・\n",
    "    jpgList = os.listdir(\"C:\\python\\work\\pythonTools\\FileZipper\\images\")\n",
    "    print(jpgList)  # 64\n",
    "\n",
    "    #jpgリストから.jpg拡張子以外のものを削除する。\n",
    "    for i in jpgList:\n",
    "        print(i)\n",
    "        if \"jpg\" not in i:\n",
    "            jpgList.remove(i)\n",
    "    return jpgList\n",
    "\n",
    "\n",
    "#関数利用\n",
    "jpgList = getJpgList()"
   ]
  },
  {
   "cell_type": "code",
   "execution_count": 6,
   "metadata": {},
   "outputs": [
    {
     "name": "stdout",
     "output_type": "stream",
     "text": [
      "0.06363296508789062\n",
      "0.06363296508789062\n",
      "0.06363296508789062\n",
      "0.06363296508789062\n",
      "0.06363296508789062\n",
      "0.06363296508789062\n",
      "0.06363296508789062\n",
      "0.06363296508789062\n",
      "0.06363296508789062\n",
      "0.06363296508789062\n",
      "0.06363296508789062\n",
      "0.06363296508789062\n",
      "0.06363296508789062\n",
      "0.06363296508789062\n",
      "0.06363296508789062\n",
      "0.06363296508789062\n",
      "0.06363296508789062\n",
      "0.06363296508789062\n",
      "0.06363296508789062\n",
      "0.06363296508789062\n",
      "0.06363296508789062\n",
      "0.06363296508789062\n",
      "0.06363296508789062\n",
      "0.06363296508789062\n",
      "0.06363296508789062\n",
      "0.06363296508789062\n",
      "0.06363296508789062\n",
      "0.06363296508789062\n",
      "0.06363296508789062\n",
      "0.06363296508789062\n",
      "0.06363296508789062\n",
      "0.06363296508789062\n",
      "0.06363296508789062\n",
      "0.06363296508789062\n",
      "0.06363296508789062\n",
      "0.06363296508789062\n",
      "0.06363296508789062\n",
      "0.06363296508789062\n",
      "0.06363296508789062\n",
      "0.06363296508789062\n",
      "2.545318603515625\n",
      "40\n"
     ]
    }
   ],
   "source": [
    "\"\"\"\n",
    "ファイルの容量を取得する関数\n",
    "@param  file ファイル名\n",
    "@rerutn size MB\n",
    "\"\"\"\n",
    "def getImageSize(file):\n",
    "    path = 'C:\\python\\work\\pythonTools\\FileZipper\\Images' + \"\\\\\" +str(file)\n",
    "    size = os.path.getsize(path) / 1024 / 1024\n",
    "    print(size)  # 64\n",
    "    return size\n",
    "\n",
    "\n",
    "#jpgリストから.jpg拡張子以外のものを削除する。\n",
    "FileSize = 0\n",
    "counter  = 0\n",
    "for file in jpgList:\n",
    "    FileSize = getImageSize(file) + FileSize\n",
    "    counter = counter + 1\n",
    "print(FileSize)\n",
    "print(counter)\n",
    "\n",
    " \n",
    "\n"
   ]
  }
 ],
 "metadata": {
  "kernelspec": {
   "display_name": "Python 3.10.5 64-bit",
   "language": "python",
   "name": "python3"
  },
  "language_info": {
   "codemirror_mode": {
    "name": "ipython",
    "version": 3
   },
   "file_extension": ".py",
   "mimetype": "text/x-python",
   "name": "python",
   "nbconvert_exporter": "python",
   "pygments_lexer": "ipython3",
   "version": "3.10.5"
  },
  "orig_nbformat": 4,
  "vscode": {
   "interpreter": {
    "hash": "3196968d684371006099b3d55edeef8ed90365227a30deaef86e5d4aa8519be0"
   }
  }
 },
 "nbformat": 4,
 "nbformat_minor": 2
}
