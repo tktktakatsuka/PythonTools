{
 "cells": [
  {
   "cell_type": "code",
   "execution_count": null,
   "metadata": {},
   "outputs": [],
   "source": [
    "\n",
    "import os\n",
    "# resuests モジュールをインポート\n",
    "from operator import truediv\n",
    "import re\n",
    "from bs4.builder import HTML\n",
    "from openpyxl.xml.constants import ACTIVEX, XLSX\n",
    "from bs4 import BeautifulSoup\n",
    "from selenium import webdriver\n",
    "from selenium.webdriver.chrome.options import Options\n",
    "from selenium import webdriver\n",
    "from webdriver_manager.chrome import ChromeDriverManager\n",
    "from selenium.webdriver.common.by import By\n",
    "import random\n",
    "import configparser\n",
    "from selenium import webdriver\n",
    "from selenium.webdriver.support.ui import WebDriverWait\n",
    "from selenium.webdriver.support import expected_conditions as EC\n",
    "import openpyxl\n",
    "import time\n",
    "from tkinter import *\n",
    "from tkinter import ttk\n",
    "from tkinter import messagebox\n",
    "import pyautogui\n",
    "\n",
    "\n",
    "'''\n",
    "excellsetting\n",
    "'''\n",
    "inputWb = openpyxl.Workbook()\n",
    "inputWs = inputWb.worksheets[0]\n",
    "num     = 2\n",
    "yoko    = 0\n",
    "\n",
    "\"\"\"\n",
    "driversetting\n",
    "\"\"\"\n",
    "config_ini = configparser.ConfigParser()\n",
    "config_ini.read('Costco.ini', encoding='utf-8')\n",
    "#var2 = config_ini.get('DEFAULT', 'Driverpath')\n",
    "options = Options()\n",
    "user_agent = ['Mozilla/5.0 (Windows NT 10.0; Win64; x64) AppleWebKit/537.36 (KHTML, like Gecko) Chrome/74.0.3729.169 Safari/537.36',\n",
    "                  'Mozilla/5.0 (Windows NT 10.0; WOW64) AppleWebKit/537.36 (KHTML, like Gecko) Chrome/72.0.3626.121 Safari/537.36',\n",
    "                  'Mozilla/5.0 (Windows NT 10.0; Win64; x64) AppleWebKit/537.36 (KHTML, like Gecko) Chrome/74.0.3729.157 Safari/537.36',\n",
    "                  'Mozilla/5.0 (Windows NT 10.0; Win64; x64) AppleWebKit/537.36 (KHTML, like Gecko) Chrome/60.0.3112.113 Safari/537.36'\n",
    "                  ]\n",
    "options = webdriver.ChromeOptions()\n",
    "options.add_argument('--user-agent=' + user_agent[random.randrange(0, len(user_agent), 1)])\n",
    "driver = webdriver.Chrome(ChromeDriverManager().install())\n",
    "\n",
    "\n",
    "'''\n",
    "URLを開く\n",
    "'''\n",
    "URL =\"https://mercari-shops.com/signin/seller/staff\"\n",
    "#URLを開く\n",
    "driver.get(URL)\n",
    "\n",
    "\n",
    "pyautogui.locateOnScreen('login.png' , confidence=0.9)\n",
    "time.sleep(2)\n",
    "'''\n",
    "login処理\n",
    "'''\n",
    "\n",
    "# ページ上のすべての要素が読み込まれるまで待機（15秒でタイムアウト判定）\n",
    "WebDriverWait(driver, 15).until(EC.presence_of_all_elements_located)\n",
    "#メールアドレスを記入\n",
    "time.sleep(2)\n",
    "mail     = driver.find_element(By.XPATH,'//*[@id=\"field-5\"]')\n",
    "time.sleep(2)\n",
    "password = driver.find_element(By.XPATH,'//*[@id=\"field-6\"]')\n",
    "mail.clear()\n",
    "password.clear()\n",
    "time.sleep(1)\n",
    "mail.send_keys(\"blue.mountain.syota@icloud.com\")\n",
    "time.sleep(1)\n",
    "#print(password)\n",
    "password.send_keys(\"xxgnHwshwfNzr5m\")\n",
    "xpath = '//*[@id=\"__next\"]/div[2]/div/div/div/form/button[1]'\n",
    "elem = driver.find_element(By.XPATH,xpath)\n",
    "elem.click()\n",
    "WebDriverWait(driver, 15).until(EC.presence_of_all_elements_located)  \n",
    "time.sleep(60)\n",
    "pathList = []\n",
    "pageNumber = 0\n",
    "#スレッドで分けたい箇所\n",
    "\n"
   ]
  },
  {
   "cell_type": "code",
   "execution_count": 1,
   "metadata": {},
   "outputs": [
    {
     "name": "stdout",
     "output_type": "stream",
     "text": [
      "None\n"
     ]
    }
   ],
   "source": [
    "import pyautogui\n",
    "center = pyautogui.locateOnScreen('./login.png')\n",
    "print(center)\n"
   ]
  }
 ],
 "metadata": {
  "kernelspec": {
   "display_name": "Python 3.10.5 64-bit",
   "language": "python",
   "name": "python3"
  },
  "language_info": {
   "codemirror_mode": {
    "name": "ipython",
    "version": 3
   },
   "file_extension": ".py",
   "mimetype": "text/x-python",
   "name": "python",
   "nbconvert_exporter": "python",
   "pygments_lexer": "ipython3",
   "version": "3.10.5"
  },
  "orig_nbformat": 4,
  "vscode": {
   "interpreter": {
    "hash": "3196968d684371006099b3d55edeef8ed90365227a30deaef86e5d4aa8519be0"
   }
  }
 },
 "nbformat": 4,
 "nbformat_minor": 2
}
