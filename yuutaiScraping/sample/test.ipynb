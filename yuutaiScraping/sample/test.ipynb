{
 "cells": [
  {
   "cell_type": "code",
   "execution_count": 61,
   "metadata": {},
   "outputs": [],
   "source": [
    "企業  = \"日本駐車場開発（2353）\"\n",
    "優待内容  = \"【優待内容】自社グループ駐車場の優待利用割引券（30％割引：5枚）など\"\n",
    "確定月= \"【権利確定月】1月・7月\"\n",
    "必要投資金額 = \"【必要投資金額】248,000円\"\n",
    "優待利回り = \"【優待利回り】0.00％\"\n",
    "配当利回り = \"【配当利回り】2.12％\"\n"
   ]
  },
  {
   "cell_type": "code",
   "execution_count": null,
   "metadata": {},
   "outputs": [],
   "source": []
  },
  {
   "cell_type": "code",
   "execution_count": 62,
   "metadata": {},
   "outputs": [
    {
     "name": "stdout",
     "output_type": "stream",
     "text": [
      "2353\n"
     ]
    }
   ],
   "source": [
    "import re\n",
    "\n",
    "# rを付けることを推奨。\n",
    "# バックスラッシュをそのままで分かりやすいため。\n",
    "\n",
    "pattern = r'\\d+'\n",
    "r銘柄 = re.search(pattern, 企業)\n",
    "\n",
    "str銘柄 = r銘柄.group()\n",
    "print(str銘柄)\n",
    "\n"
   ]
  },
  {
   "cell_type": "code",
   "execution_count": 63,
   "metadata": {},
   "outputs": [
    {
     "name": "stdout",
     "output_type": "stream",
     "text": [
      "日本駐車場開発\n"
     ]
    }
   ],
   "source": [
    "\n",
    "\n",
    "# rを付けることを推奨。\n",
    "# バックスラッシュをそのままで分かりやすいため。\n",
    "\n",
    "\n",
    "pattern = r'\\D+'\n",
    "r企業名 = re.search(pattern, 企業)\n",
    "\n",
    "\n",
    "str企業名 = r企業名.group().replace(\"（\" , \"\")\n",
    "print(str企業名)\n"
   ]
  },
  {
   "cell_type": "code",
   "execution_count": 64,
   "metadata": {},
   "outputs": [
    {
     "name": "stdout",
     "output_type": "stream",
     "text": [
      "自社グループ駐車場の優待利用割引券（30％割引：5枚）など\n"
     ]
    }
   ],
   "source": [
    "# rを付けることを推奨。\n",
    "# バックスラッシュをそのままで分かりやすいため。\n",
    "\n",
    "\n",
    "pattern = r'(【.*?】)'\n",
    "r優待内容 = re.search(pattern, 優待内容)\n",
    "\n",
    "str優待内容 =優待内容.replace(r優待内容.group(),\"\" )\n",
    "print(str優待内容)\n"
   ]
  },
  {
   "cell_type": "code",
   "execution_count": 65,
   "metadata": {},
   "outputs": [
    {
     "name": "stdout",
     "output_type": "stream",
     "text": [
      "2\n",
      "1\n",
      "7\n"
     ]
    }
   ],
   "source": [
    "\n",
    "pattern = r'(【.*?】)'\n",
    "r確定月 = re.search(pattern, 確定月)\n",
    "month  = 確定月.replace(r確定月.group(),\"\" ).replace(\"月\",\"\" )\n",
    "l = month.split(\"・\")\n",
    "\n",
    "print(len(l))\n",
    "\n",
    "for num in range(len(l)):\n",
    "    month1 = l[num]\n",
    "    print(l[num])\n"
   ]
  },
  {
   "cell_type": "code",
   "execution_count": null,
   "metadata": {},
   "outputs": [],
   "source": []
  },
  {
   "cell_type": "code",
   "execution_count": 66,
   "metadata": {},
   "outputs": [
    {
     "name": "stdout",
     "output_type": "stream",
     "text": [
      "248,000\n"
     ]
    }
   ],
   "source": [
    "\n",
    "pattern = r'(【.*?】)'\n",
    "r必要投資金額 = re.search(pattern, 必要投資金額)\n",
    "month  = 必要投資金額.replace(r必要投資金額.group(),\"\" ).replace(\"円\",\"\" )\n",
    "l = month.split(\"・\")\n",
    "\n",
    "month1 = l[0]\n",
    "\n",
    "\n",
    "print(l[0])\n",
    "\n"
   ]
  },
  {
   "cell_type": "code",
   "execution_count": 67,
   "metadata": {},
   "outputs": [
    {
     "name": "stdout",
     "output_type": "stream",
     "text": [
      "0.00％\n"
     ]
    }
   ],
   "source": [
    "\n",
    "pattern = r'(【.*?】)'\n",
    "r優待利回り = re.search(pattern, 優待利回り)\n",
    "month  = 優待利回り.replace(r優待利回り.group(),\"\" ).replace(\"\",\"\" )\n",
    "l = month.split(\"・\")\n",
    "\n",
    "month1 = l[0]\n",
    "print(l[0])\n",
    "\n"
   ]
  },
  {
   "cell_type": "code",
   "execution_count": 68,
   "metadata": {},
   "outputs": [
    {
     "name": "stdout",
     "output_type": "stream",
     "text": [
      "2.12％\n"
     ]
    }
   ],
   "source": [
    "\n",
    "pattern = r'(【.*?】)'\n",
    "r配当利回り = re.search(pattern, 配当利回り)\n",
    "month  = 配当利回り.replace(r配当利回り.group(),\"\" ).replace(\"\",\"\" )\n",
    "l = month.split(\"・\")\n",
    "\n",
    "month1 = l[0]\n",
    "print(l[0])\n"
   ]
  },
  {
   "cell_type": "code",
   "execution_count": 69,
   "metadata": {},
   "outputs": [
    {
     "ename": "OperationalError",
     "evalue": "table yutai already exists",
     "output_type": "error",
     "traceback": [
      "\u001b[1;31m---------------------------------------------------------------------------\u001b[0m",
      "\u001b[1;31mOperationalError\u001b[0m                          Traceback (most recent call last)",
      "\u001b[1;32mセル11 を c:\\python\\work\\pythonTools\\yuutaiScraping\\test.ipynb\u001b[0m in \u001b[0;36m<cell line: 4>\u001b[1;34m()\u001b[0m\n\u001b[0;32m      <a href='vscode-notebook-cell:/c%3A/python/work/pythonTools/yuutaiScraping/test.ipynb#X12sZmlsZQ%3D%3D?line=1'>2</a>\u001b[0m conn \u001b[39m=\u001b[39m sqlite3\u001b[39m.\u001b[39mconnect(\u001b[39m'\u001b[39m\u001b[39myuutai.sqlite3\u001b[39m\u001b[39m'\u001b[39m)\n\u001b[0;32m      <a href='vscode-notebook-cell:/c%3A/python/work/pythonTools/yuutaiScraping/test.ipynb#X12sZmlsZQ%3D%3D?line=2'>3</a>\u001b[0m c \u001b[39m=\u001b[39m conn\u001b[39m.\u001b[39mcursor()\n\u001b[1;32m----> <a href='vscode-notebook-cell:/c%3A/python/work/pythonTools/yuutaiScraping/test.ipynb#X12sZmlsZQ%3D%3D?line=3'>4</a>\u001b[0m c\u001b[39m.\u001b[39;49mexecute(\u001b[39m'\u001b[39;49m\u001b[39mcreate table yutai(企業名 , 銘柄コード unique , 優待内容  , 権利確定月① , 権利確定月② , 必要投資金額  , 優待利回り , 配当利回り,URL )\u001b[39;49m\u001b[39m'\u001b[39;49m)\n",
      "\u001b[1;31mOperationalError\u001b[0m: table yutai already exists"
     ]
    }
   ],
   "source": [
    "import sqlite3\n",
    "conn = sqlite3.connect('yuutai.sqlite3')\n",
    "c = conn.cursor()\n",
    "c.execute('create table yutai(企業名 , 銘柄コード unique , 優待内容  , 権利確定月① , 権利確定月② , 必要投資金額  , 優待利回り , 配当利回り,URL )')"
   ]
  },
  {
   "cell_type": "code",
   "execution_count": null,
   "metadata": {},
   "outputs": [],
   "source": [
    "def insert_data():\n",
    "\n",
    "    cur = con.cursor()\n",
    "    sql = 'INSERT INTO TEST (id, name) values (?,?)'\n",
    "    data = [1, '猫']\n",
    "    cur.execute(sql, data)\n",
    "    con.commit()\n",
    "    con.close()\n",
    "    \n",
    "import sqlite3\n",
    "con = sqlite3.connect('testtest.sqlite3')\n",
    "con.execute('create table TEST(id , name)')\n",
    "\n",
    "insert_data()"
   ]
  },
  {
   "cell_type": "code",
   "execution_count": null,
   "metadata": {},
   "outputs": [],
   "source": [
    "abclist  = [\"a\",\"長期優待を狙えば、うんち\",\"c\" ]\n",
    "\n",
    "if '長期優待を狙えば、' in abclist[1]:\n",
    "    abclist.pop(1) #これでインデックス番号1番の\"orange\"を削除。\n",
    "    print(abclist)\n"
   ]
  },
  {
   "cell_type": "code",
   "execution_count": null,
   "metadata": {},
   "outputs": [],
   "source": [
    "import openpyxl \n",
    "\n",
    "# データベースのテーブルitemsからデータを最大300件取り出す --- (*2)\n",
    "sql = 'SELECT * FROM yutai'\n",
    "\n",
    "# データベースに接続してデータを取り出す --- (*3)\n",
    "conn = sqlite3.connect(\"yuutai.sqlite3\")\n",
    "cur = conn.cursor()\n",
    "rows = cur.execute(sql)\n",
    "print(rows)\n",
    "\n",
    "# 取り出したデータをExcelに貼り付ける --- (*4)\n",
    "book = openpyxl.Workbook() # 新規ブック作成\n",
    "sheet = book.worksheets[0] # 先頭のシート\n",
    "for i, n in enumerate(rows): # --- (*4a)\n",
    "   sheet.cell(i+1, 1).value = n[0] # 単語\n",
    "   sheet.cell(i+1, 2).value = n[1] # 意味\n",
    "   sheet.cell(i+1, 3).value = n[2] # 意味\n",
    "   sheet.cell(i+1, 4).value = n[3] # 意味\n",
    "   sheet.cell(i+1, 5).value = n[4] # 意味\n",
    "   sheet.cell(i+1, 6).value = n[5] # 意味\n",
    "   sheet.cell(i+1, 7).value = n[6] # 意味\n",
    "   sheet.cell(i+1, 8).value = n[7] # 意味\n",
    "   sheet.cell(i+1, 9).value = n[8] # 意味\n",
    "\n",
    "# Excelファイルに保存 --- (*5)\n",
    "book.save(\"yutai.xlsx\")\n",
    "print(\"ok\")"
   ]
  },
  {
   "cell_type": "code",
   "execution_count": null,
   "metadata": {},
   "outputs": [],
   "source": [
    "abclist  = [\"a\",\"長期優待を狙えば、うんち\",\"c\" ]\n",
    "\n",
    "if '長期優待を狙えば、' in abclist[1]:\n",
    "    abclist.pop(1) #これでインデックス番号1番の\"orange\"を削除。\n",
    "    print(abclist)\n"
   ]
  },
  {
   "cell_type": "code",
   "execution_count": 80,
   "metadata": {},
   "outputs": [],
   "source": [
    "# 取り出したデータをExcelに貼り付ける --- (*4)\n",
    "from openpyxl.utils import get_column_letter\n",
    "import openpyxl\n",
    "from openpyxl.styles.borders import Border, Side\n",
    "book = openpyxl.load_workbook('Yutai_List.xlsm', keep_vba=True) # 新規ブック作成\n",
    "sheet = book.worksheets[0] # 先頭のシート\n",
    "sql = 'SELECT * FROM yutai'\n",
    "rows = cur.execute(sql)\n",
    "# 罫線(外枠)を設定\n",
    "border = Border(top=Side(style='thin', color='000000'), \n",
    "                bottom=Side(style='thin', color='000000'), \n",
    "                left=Side(style='thin', color='000000'),\n",
    "                right=Side(style='thin', color='000000'))\n",
    "\n",
    "for i, n in enumerate(rows): # --- (*4a)\n",
    "\n",
    "    sheet.cell(i+5, 1).value = n[0] # 単語\n",
    "    sheet.cell(i+5, 2).value = n[1] # 意味\n",
    "    sheet.cell(i+5, 3).value = n[2] # 意味\n",
    "    sheet.cell(i+5, 4).value = n[3] # 意味\n",
    "    sheet.cell(i+5, 5).value = n[4] # 意味\n",
    "    sheet.cell(i+5, 6).value = n[5] # 意味\n",
    "    sheet.cell(i+5, 7).value = n[6] # 意味\n",
    "    sheet.cell(i+5, 8).value = n[7] # 意味\n",
    "    sheet.cell(i+5, 9).hyperlink = n[8] # 意味\n",
    "    \n",
    "# set column width\n",
    "for col in sheet.columns:\n",
    "    max_length = 0\n",
    "    column = col[0].column\n",
    "\n",
    "    for cell in col:\n",
    "        if len(str(cell.value)) > max_length:\n",
    "            max_length = len(str(cell.value))\n",
    "\n",
    "    adjusted_width = (max_length + 2) * 1.2\n",
    "    sheet.column_dimensions[get_column_letter(column)].width = adjusted_width\n",
    "\n",
    "#最大行\n",
    "maxRow = sheet.max_row + 1\n",
    "  \n",
    "# セルに罫線を設定\n",
    "for row_num in range(5,maxRow):\n",
    "    for col_num in range(1,10):\n",
    "        sheet.cell(row=row_num ,column=col_num).border = border\n",
    "    \n",
    "# Excelファイルに保存 --- (*5)\n",
    "book.save(\"yutai_List.xlsm\")\n"
   ]
  }
 ],
 "metadata": {
  "kernelspec": {
   "display_name": "Python 3.10.5 64-bit",
   "language": "python",
   "name": "python3"
  },
  "language_info": {
   "codemirror_mode": {
    "name": "ipython",
    "version": 3
   },
   "file_extension": ".py",
   "mimetype": "text/x-python",
   "name": "python",
   "nbconvert_exporter": "python",
   "pygments_lexer": "ipython3",
   "version": "3.10.5"
  },
  "orig_nbformat": 4,
  "vscode": {
   "interpreter": {
    "hash": "3196968d684371006099b3d55edeef8ed90365227a30deaef86e5d4aa8519be0"
   }
  }
 },
 "nbformat": 4,
 "nbformat_minor": 2
}
