{
 "cells": [
  {
   "cell_type": "code",
   "execution_count": 1,
   "metadata": {},
   "outputs": [],
   "source": [
    "企業  = \"日本駐車場開発（2353）\"\n",
    "優待内容  = \"【優待内容】自社グループ駐車場の優待利用割引券（30％割引：5枚）など\"\n",
    "確定月= \"【権利確定月】1月・7月\"\n",
    "必要投資金額 = \"【必要投資金額】248,000円\"\n",
    "優待利回り = \"【優待利回り】0.00％\"\n",
    "配当利回り = \"【配当利回り】2.12％\"\n"
   ]
  },
  {
   "cell_type": "code",
   "execution_count": null,
   "metadata": {},
   "outputs": [],
   "source": []
  },
  {
   "cell_type": "code",
   "execution_count": 2,
   "metadata": {},
   "outputs": [
    {
     "name": "stdout",
     "output_type": "stream",
     "text": [
      "2353\n"
     ]
    }
   ],
   "source": [
    "import re\n",
    "\n",
    "# rを付けることを推奨。\n",
    "# バックスラッシュをそのままで分かりやすいため。\n",
    "\n",
    "pattern = r'\\d+'\n",
    "r銘柄 = re.search(pattern, 企業)\n",
    "\n",
    "str銘柄 = r銘柄.group()\n",
    "print(str銘柄)\n",
    "\n"
   ]
  },
  {
   "cell_type": "code",
   "execution_count": 3,
   "metadata": {},
   "outputs": [
    {
     "name": "stdout",
     "output_type": "stream",
     "text": [
      "日本駐車場開発\n"
     ]
    }
   ],
   "source": [
    "\n",
    "\n",
    "# rを付けることを推奨。\n",
    "# バックスラッシュをそのままで分かりやすいため。\n",
    "\n",
    "\n",
    "pattern = r'\\D+'\n",
    "r企業名 = re.search(pattern, 企業)\n",
    "\n",
    "\n",
    "str企業名 = r企業名.group().replace(\"（\" , \"\")\n",
    "print(str企業名)\n"
   ]
  },
  {
   "cell_type": "code",
   "execution_count": 4,
   "metadata": {},
   "outputs": [
    {
     "name": "stdout",
     "output_type": "stream",
     "text": [
      "自社グループ駐車場の優待利用割引券（30％割引：5枚）など\n"
     ]
    }
   ],
   "source": [
    "# rを付けることを推奨。\n",
    "# バックスラッシュをそのままで分かりやすいため。\n",
    "\n",
    "\n",
    "pattern = r'(【.*?】)'\n",
    "r優待内容 = re.search(pattern, 優待内容)\n",
    "\n",
    "str優待内容 =優待内容.replace(r優待内容.group(),\"\" )\n",
    "print(str優待内容)\n"
   ]
  },
  {
   "cell_type": "code",
   "execution_count": 5,
   "metadata": {},
   "outputs": [
    {
     "name": "stdout",
     "output_type": "stream",
     "text": [
      "2\n",
      "1\n",
      "7\n"
     ]
    }
   ],
   "source": [
    "\n",
    "pattern = r'(【.*?】)'\n",
    "r確定月 = re.search(pattern, 確定月)\n",
    "month  = 確定月.replace(r確定月.group(),\"\" ).replace(\"月\",\"\" )\n",
    "l = month.split(\"・\")\n",
    "\n",
    "print(len(l))\n",
    "\n",
    "for num in range(len(l)):\n",
    "    month1 = l[num]\n",
    "    print(l[num])\n"
   ]
  },
  {
   "cell_type": "code",
   "execution_count": null,
   "metadata": {},
   "outputs": [],
   "source": []
  },
  {
   "cell_type": "code",
   "execution_count": 6,
   "metadata": {},
   "outputs": [
    {
     "name": "stdout",
     "output_type": "stream",
     "text": [
      "248,000\n"
     ]
    }
   ],
   "source": [
    "\n",
    "pattern = r'(【.*?】)'\n",
    "r必要投資金額 = re.search(pattern, 必要投資金額)\n",
    "month  = 必要投資金額.replace(r必要投資金額.group(),\"\" ).replace(\"円\",\"\" )\n",
    "l = month.split(\"・\")\n",
    "\n",
    "month1 = l[0]\n",
    "\n",
    "\n",
    "print(l[0])\n",
    "\n"
   ]
  },
  {
   "cell_type": "code",
   "execution_count": 7,
   "metadata": {},
   "outputs": [
    {
     "name": "stdout",
     "output_type": "stream",
     "text": [
      "0.00％\n"
     ]
    }
   ],
   "source": [
    "\n",
    "pattern = r'(【.*?】)'\n",
    "r優待利回り = re.search(pattern, 優待利回り)\n",
    "month  = 優待利回り.replace(r優待利回り.group(),\"\" ).replace(\"\",\"\" )\n",
    "l = month.split(\"・\")\n",
    "\n",
    "month1 = l[0]\n",
    "print(l[0])\n",
    "\n"
   ]
  },
  {
   "cell_type": "code",
   "execution_count": 8,
   "metadata": {},
   "outputs": [
    {
     "name": "stdout",
     "output_type": "stream",
     "text": [
      "2.12％\n"
     ]
    }
   ],
   "source": [
    "\n",
    "pattern = r'(【.*?】)'\n",
    "r配当利回り = re.search(pattern, 配当利回り)\n",
    "month  = 配当利回り.replace(r配当利回り.group(),\"\" ).replace(\"\",\"\" )\n",
    "l = month.split(\"・\")\n",
    "\n",
    "month1 = l[0]\n",
    "print(l[0])\n"
   ]
  },
  {
   "cell_type": "code",
   "execution_count": 9,
   "metadata": {},
   "outputs": [
    {
     "data": {
      "text/plain": [
       "<sqlite3.Cursor at 0x1b3658607c0>"
      ]
     },
     "execution_count": 9,
     "metadata": {},
     "output_type": "execute_result"
    }
   ],
   "source": [
    "import sqlite3\n",
    "conn = sqlite3.connect('yuutaiTest.sqlite3')\n",
    "c = conn.cursor()\n",
    "c.execute('create table yutai(企業名 , 銘柄コード , 優待内容  , 権利確定月① , 権利確定月② , 必要投資金額  , 優待利回り , 配当利回り,URL )')"
   ]
  },
  {
   "cell_type": "code",
   "execution_count": 470,
   "metadata": {},
   "outputs": [],
   "source": [
    "def insert_data():\n",
    "\n",
    "    cur = con.cursor()\n",
    "    sql = 'INSERT INTO TEST (id, name) values (?,?)'\n",
    "    data = [1, '猫']\n",
    "    cur.execute(sql, data)\n",
    "    con.commit()\n",
    "    con.close()\n",
    "    \n",
    "import sqlite3\n",
    "con = sqlite3.connect('testtest.sqlite3')\n",
    "con.execute('create table TEST(id , name)')\n",
    "\n",
    "insert_data()"
   ]
  },
  {
   "cell_type": "code",
   "execution_count": 12,
   "metadata": {},
   "outputs": [
    {
     "name": "stdout",
     "output_type": "stream",
     "text": [
      "['a', 'c']\n"
     ]
    }
   ],
   "source": [
    "abclist  = [\"a\",\"長期優待を狙えば、うんち\",\"c\" ]\n",
    "\n",
    "if '長期優待を狙えば、' in abclist[1]:\n",
    "    abclist.pop(1) #これでインデックス番号1番の\"orange\"を削除。\n",
    "    print(abclist)\n"
   ]
  },
  {
   "cell_type": "code",
   "execution_count": null,
   "metadata": {},
   "outputs": [],
   "source": [
    "\n"
   ]
  }
 ],
 "metadata": {
  "kernelspec": {
   "display_name": "Python 3.10.5 64-bit",
   "language": "python",
   "name": "python3"
  },
  "language_info": {
   "codemirror_mode": {
    "name": "ipython",
    "version": 3
   },
   "file_extension": ".py",
   "mimetype": "text/x-python",
   "name": "python",
   "nbconvert_exporter": "python",
   "pygments_lexer": "ipython3",
   "version": "3.10.5"
  },
  "orig_nbformat": 4,
  "vscode": {
   "interpreter": {
    "hash": "3196968d684371006099b3d55edeef8ed90365227a30deaef86e5d4aa8519be0"
   }
  }
 },
 "nbformat": 4,
 "nbformat_minor": 2
}
